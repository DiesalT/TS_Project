{
 "cells": [
  {
   "cell_type": "code",
   "execution_count": null,
   "metadata": {},
   "outputs": [],
   "source": [
    "import numpy as np\n",
    "import pandas as pd\n",
    "import matplotlib.pyplot as plt\n",
    "import statsmodels.api as sm\n",
    "from statsmodels.tsa.arima.model import ARIMA"
   ]
  },
  {
   "cell_type": "code",
   "execution_count": null,
   "metadata": {},
   "outputs": [],
   "source": [
    "data=pd.read_csv(\"OMX_Nordic_40.csv\")\n",
    "data[\"Date\"]=pd.to_datetime(data[\"Date\"],format=\"%Y-%m-%d\")\n",
    "display(data)\n",
    "plt.plot(data[\"Date\"],data[\"High price\"])\n",
    "plt.plot(data[\"Date\"],data[\"Low price\"])\n",
    "plt.plot(data[\"Date\"],data[\"Closing price\"])\n",
    "plt.show()"
   ]
  },
  {
   "cell_type": "code",
   "execution_count": null,
   "metadata": {},
   "outputs": [],
   "source": []
  }
 ],
 "metadata": {
  "language_info": {
   "name": "python"
  }
 },
 "nbformat": 4,
 "nbformat_minor": 2
}
